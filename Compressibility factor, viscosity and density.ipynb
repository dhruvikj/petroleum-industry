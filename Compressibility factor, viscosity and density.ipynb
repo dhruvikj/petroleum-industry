{
  "nbformat": 4,
  "nbformat_minor": 0,
  "metadata": {
    "colab": {
      "name": "Hall update field post unit .ipynb",
      "provenance": [],
      "collapsed_sections": [],
      "authorship_tag": "ABX9TyMskybl9lpwBCmaI47x5eZn",
      "include_colab_link": true
    },
    "kernelspec": {
      "display_name": "Python 3",
      "name": "python3"
    }
  },
  "cells": [
    {
      "cell_type": "markdown",
      "metadata": {
        "id": "view-in-github",
        "colab_type": "text"
      },
      "source": [
        "<a href=\"https://colab.research.google.com/github/dhruvikj/petroleum-industry/blob/master/Compressibility%20factor%2C%20viscosity%20and%20density.ipynb\" target=\"_parent\"><img src=\"https://colab.research.google.com/assets/colab-badge.svg\" alt=\"Open In Colab\"/></a>"
      ]
    },
    {
      "cell_type": "markdown",
      "metadata": {
        "id": "SX6DZDVKyzYZ"
      },
      "source": [
        "**Hall Method in field unit(PSI,RENKIN)**\n"
      ]
    },
    {
      "cell_type": "code",
      "metadata": {
        "colab": {
          "base_uri": "https://localhost:8080/"
        },
        "id": "YCb3S1ERmkPs",
        "outputId": "1162f07c-7324-4698-abf6-b10f2f1789e7"
      },
      "source": [
        "pg = float(input(\"Give Pressure(psia) :- \"))\n",
        "Tg = float(input(\"Give Temperature(R) :- \"))\n",
        "s = float(input(\"Give specific gravity :- \"))\n",
        "y = float(input(\"Give the interval for pressure :-\"))\n",
        "\n",
        "m1 = s*28.96\n",
        "\n",
        "tc = 168 + 325*s - 12.5*((s)**2)\n",
        "\n",
        "pc = 677 + 15.0*s -37.5*((s)**2)\n",
        "\n",
        "print(\"*************************************************************\")\n",
        "\n",
        "zl = []\n",
        "pl = []\n",
        "bgl = []\n",
        "de1 = []\n",
        "den = []\n",
        "while pg > 0 :\n",
        "  \n",
        "  p = pg/pc\n",
        "  #p = round(p,2)\n",
        "\n",
        "  T = Tg/tc\n",
        "  #T = round(T,2)\n",
        "\n",
        "  t = 1/T\n",
        "\n",
        "\n",
        "  import math as m\n",
        "  import pandas as pd\n",
        "\n",
        "  X1 = -0.06125*p*t*(m.exp(-1.2*((1-t)**2)))\n",
        "  X2 = (14.76*t - 9.76*(t**2) + 4.58*(t**3))\n",
        "  X3 = (90.76*t - 242.2*(t**2) + 42.4*(t**3))\n",
        "  X4 = (2.18 + 2.82*t)\n",
        "\n",
        "  Y = 0.0125*p*t*(m.exp(-1.12*((1-t)**2)))\n",
        "\n",
        "  #print('AT Pressure(psia) = ',pg)\n",
        "\n",
        "  #f = X1 + ((Y+(Y**2)+(Y**3)+(Y**4))/((1-Y)**3)) - X2*(Y**2) + X3*(pow(Y,X4))\n",
        "  #f1 =((1 + 4*Y + 4*(Y**2) - 4*(Y**3) + Y**4 )/((1 - Y)**4)) - 2*X2*Y + *X4*X3*(pow(Y,X4-1))\n",
        "  \n",
        "  Yn = 0\n",
        "  \n",
        "\n",
        "  while abs(Y - Yn) > 0.000000000000001 :\n",
        "\n",
        "    Yn = Y\n",
        "\n",
        "    f = X1 + ((Y+(Y**2)+(Y**3)+(Y**4))/((1-Y)**3)) - X2*(Y**2) + X3*(pow(Y,X4))\n",
        "    f1 =((1 + 4*Y + 4*(Y**2) - 4*(Y**3) + Y**4 )/((1 - Y)**4)) - 2*X2*Y + X4*X3*(pow(Y,X4-1))\n",
        "\n",
        "    Y = Y - (f/f1)\n",
        "\n",
        "  #print(\"Y =\", Y)\n",
        "\n",
        "  z = ((0.06125*p*t)/Y)*(m.exp(-1.2*((1-t)**2)))\n",
        "\n",
        "  #print(\"z = \" , round(z,4))\n",
        "   \n",
        "  Bg = 0.0287*z*Tg/pg\n",
        "\n",
        "  #print(\"Bg = \", round(Bg,4))\n",
        "    \n",
        "  \n",
        "  k = (9.4 + 0.02*(m1))*(pow(Tg,1.5))/(209+19*(m1)+Tg)\n",
        "  V = 3.5 + (986/Tg) + 0.01*m1\n",
        "  U = 2.4 - 0.2*V\n",
        "  d = (0.0014935*pg*m1)/(z*Tg)\n",
        "  l = (pow(d,U))\n",
        "  b = V*l\n",
        "  de = 0.0001*k*(pow(2.71828,b))  \n",
        "  \n",
        "\n",
        "  den.append(d)\n",
        "  zl.append(round(z,4))\n",
        "  pl.append(pg)  \n",
        "  bgl.append(round(Bg,4))\n",
        "  de1.append(de)\n",
        "  \n",
        "  \n",
        "  \n",
        "  #print(\"***********************\")\n",
        "  \n",
        "\n",
        "  pg = pg - y\n",
        "\n",
        "\n",
        "df = pd.DataFrame(pl,columns =['Pressure(psi)'])\n",
        "df['Z'] = zl\n",
        "df['Bg'] = bgl\n",
        "df['viscosity(MICROPOISE)'] = de1 ### viscocity in  MICROPOISE\n",
        "df['density(GM/CC)'] = den ### density in g/cc\n",
        "\n",
        "# to dispaly the full dataframe\n",
        "\n",
        "pd.options.display.max_rows\n",
        "pd.set_option('display.max_rows', None)\n",
        "print(df)\n",
        "\n",
        "l5 = df['Z'].tolist()\n",
        "l6 = df['Pressure(psi)'].tolist()\n"
      ],
      "execution_count": 9,
      "outputs": [
        {
          "output_type": "stream",
          "name": "stdout",
          "text": [
            "Give Pressure(psia) :- 3555\n",
            "Give Temperature(R) :- 716\n",
            "Give specific gravity :- 0.8\n",
            "Give the interval for pressure :-200\n",
            "*************************************************************\n",
            "    Pressure(psi)       Z      Bg  viscosity(MICROPOISE)  density(GM/CC)\n",
            "0          3555.0  0.9086  0.0053               0.023153        0.189071\n",
            "1          3355.0  0.8975  0.0055               0.022440        0.180655\n",
            "2          3155.0  0.8878  0.0058               0.021722        0.171747\n",
            "3          2955.0  0.8797  0.0061               0.021003        0.162336\n",
            "4          2755.0  0.8735  0.0065               0.020287        0.152427\n",
            "5          2555.0  0.8693  0.0070               0.019581        0.142041\n",
            "6          2355.0  0.8673  0.0076               0.018891        0.131219\n",
            "7          2155.0  0.8677  0.0083               0.018223        0.120024\n",
            "8          1955.0  0.8704  0.0091               0.017586        0.108539\n",
            "9          1755.0  0.8756  0.0103               0.016985        0.096862\n",
            "10         1555.0  0.8831  0.0117               0.016427        0.085098\n",
            "11         1355.0  0.8927  0.0135               0.015914        0.073352\n",
            "12         1155.0  0.9043  0.0161               0.015451        0.061721\n",
            "13          955.0  0.9177  0.0197               0.015039        0.050288\n",
            "14          755.0  0.9327  0.0254               0.014678        0.039118\n",
            "15          555.0  0.9491  0.0351               0.014371        0.028260\n",
            "16          355.0  0.9666  0.0559               0.014118        0.017749\n",
            "17          155.0  0.9851  0.1306               0.013927        0.007604\n"
          ]
        }
      ]
    },
    {
      "cell_type": "code",
      "source": [
        "l1 = df['Bg'].tolist()\n",
        "l2 = df['viscosity(MICROPOISE)'].tolist()\n",
        "l3 = df['density(GM/CC)'].tolist()"
      ],
      "metadata": {
        "id": "s-JJOWZ8N77c"
      },
      "execution_count": 16,
      "outputs": []
    },
    {
      "cell_type": "code",
      "metadata": {
        "id": "4yp-2DpM8_40",
        "colab": {
          "base_uri": "https://localhost:8080/",
          "height": 362
        },
        "outputId": "7907c18a-1b6b-4ff6-ccb9-ea923ab14395"
      },
      "source": [
        "fig , ax1 = plt.subplots(nrows=1,ncols=1,figsize=(10,5))\n",
        "ax1.plot(l6,l5, label = 'compressibility factor(z)')\n",
        "ax1.set_xlabel(\"Pressure(psia)\")\n",
        "ax1.set_ylabel(\"compressiblity factor(z)\")\n",
        "ax1.set_title(\" Z V/S Pressure(Psia)\")\n",
        "ax1.legend()\n",
        "\n"
      ],
      "execution_count": 40,
      "outputs": [
        {
          "output_type": "execute_result",
          "data": {
            "text/plain": [
              "<matplotlib.legend.Legend at 0x7f1bb7f42050>"
            ]
          },
          "metadata": {},
          "execution_count": 40
        },
        {
          "output_type": "display_data",
          "data": {
            "image/png": "[encoded data removed]",
            "text/plain": [
              "<Figure size 720x360 with 1 Axes>"
            ]
          },
          "metadata": {}
        }
      ]
    },
    {
      "cell_type": "code",
      "source": [
        ""
      ],
      "metadata": {
        "id": "9BLtMPVhXUfu"
      },
      "execution_count": null,
      "outputs": []
    }
  ]
}