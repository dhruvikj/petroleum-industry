{
 "cells": [
  {
   "cell_type": "code",
   "execution_count": 1,
   "metadata": {},
   "outputs": [],
   "source": [
    "import numpy as np\n",
    "import matplotlib.pyplot as mlt\n",
    "import pandas as pd"
   ]
  },
  {
   "cell_type": "code",
   "execution_count": 12,
   "metadata": {},
   "outputs": [],
   "source": [
    "def inflow():\n",
    "  p = int(input(\"pressure measurd at flow (psig):-\"))\n",
    "  q = int(input(\" measured flow(stb/day)\"))\n",
    "  b = int(input(\"bubble point(psig)\"))\n",
    "  pr = int(input(\"reservoir pressure(psig)\"))\n",
    "\n",
    "  flow = []\n",
    "  pressure = []\n",
    "\n",
    "  Qo = np.array('flow')\n",
    "  pwf = np.array('pressure')\n",
    "  \n",
    "\n",
    "\n",
    "\n",
    "  if p > b:\n",
    "        \n",
    "        j = q/(pr-p)\n",
    "        qb = j*(pr-b)\n",
    "        \n",
    "  elif p < b :\n",
    "    \n",
    "        j = q/ ((pr-b)+ (b/1.8)*(1-0.2*(p/b)-0.8*((p/b)**2)))\n",
    "        qb = j*(pr-b)\n",
    "        \n",
    "  qm = qb+ (j*b)/1.8\n",
    "  pressure.append(0)\n",
    "  flow.append(qm)\n",
    "        \n",
    "  for k in range(0,b,100): \n",
    "    qf = qb + ((j*b)/1.8)*(1-0.2*(k/b)-0.8*((k/b)**2)) \n",
    "    pressure.append(k)\n",
    "    flow.append(qf)\n",
    "        \n",
    "  for i in range(b,pr,100):\n",
    "    qf = j*(pr-i)\n",
    "    pressure.append(i)\n",
    "    flow.append(qf)\n",
    "            \n",
    "  pressure.append(pr)\n",
    "  flow.append(0)  \n",
    "        \n",
    "    \n",
    "       \n",
    "            \n",
    "        \n",
    "        \n",
    "            \n",
    "  pd.set_option(\"display.max_rows\", None , \"display.max_columns\", None)\n",
    "\n",
    "  df = pd.DataFrame(pressure,columns=['Pwf'])\n",
    "  df['Qo'] = flow\n",
    "  print(df)\n",
    "  \n",
    "\n",
    "  pwf = np.array(df['Pwf'])\n",
    "  Qo = np.array(df['Qo'])\n",
    "\n",
    "  mlt.plot(Qo,pwf)\n",
    "  mlt.xlabel(\"Qo(STB/DAY)\")\n",
    "  mlt.ylabel(\"P(PSIA)\")\n",
    "  mlt.style.use(\"seaborn-dark\")\n",
    "  mlt.grid()\n",
    "  mlt.title(\"inflow performance curve\")\n",
    "  \n",
    "  \n",
    "          \n",
    "      \n",
    "    \n",
    "\n",
    "    "
   ]
  },
  {
   "cell_type": "code",
   "execution_count": 13,
   "metadata": {},
   "outputs": [
    {
     "name": "stdout",
     "output_type": "stream",
     "text": [
      "pressure measurd at flow (psig):-1700\n",
      " measured flow(stb/day)630\n",
      "bubble point(psig)2130\n",
      "reservoir pressure(psig)3000\n",
      "     Pwf           Qo\n",
      "0      0  1025.511840\n",
      "1      0  1025.511840\n",
      "2    100  1018.920410\n",
      "3    200  1010.244734\n",
      "4    300   999.484811\n",
      "5    400   986.640641\n",
      "6    500   971.712225\n",
      "7    600   954.699562\n",
      "8    700   935.602653\n",
      "9    800   914.421498\n",
      "10   900   891.156095\n",
      "11  1000   865.806446\n",
      "12  1100   838.372551\n",
      "13  1200   808.854409\n",
      "14  1300   777.252020\n",
      "15  1400   743.565385\n",
      "16  1500   707.794503\n",
      "17  1600   669.939375\n",
      "18  1700   630.000000\n",
      "19  1800   587.976379\n",
      "20  1900   543.868511\n",
      "21  2000   497.676396\n",
      "22  2100   449.400035\n",
      "23  2130   434.510698\n",
      "24  2230   384.566940\n",
      "25  2330   334.623181\n",
      "26  2430   284.679423\n",
      "27  2530   234.735665\n",
      "28  2630   184.791906\n",
      "29  2730   134.848148\n",
      "30  2830    84.904389\n",
      "31  2930    34.960631\n",
      "32  3000     0.000000\n"
     ]
    },
    {
     "data": {
      "image/png": "[encoded data removed]",
      "text/plain": [
       "<Figure size 432x288 with 1 Axes>"
      ]
     },
     "metadata": {},
     "output_type": "display_data"
    }
   ],
   "source": [
    "inflow()"
   ]
  },
  {
   "cell_type": "code",
   "execution_count": null,
   "metadata": {},
   "outputs": [],
   "source": []
  },
  {
   "cell_type": "code",
   "execution_count": null,
   "metadata": {},
   "outputs": [],
   "source": []
  }
 ],
 "metadata": {
  "kernelspec": {
   "display_name": "Python 3",
   "language": "python",
   "name": "python3"
  },
  "language_info": {
   "codemirror_mode": {
    "name": "ipython",
    "version": 3
   },
   "file_extension": ".py",
   "mimetype": "text/x-python",
   "name": "python",
   "nbconvert_exporter": "python",
   "pygments_lexer": "ipython3",
   "version": "3.7.6"
  }
 },
 "nbformat": 4,
 "nbformat_minor": 5
}
